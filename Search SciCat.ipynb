{
 "cells": [
  {
   "cell_type": "markdown",
   "metadata": {},
   "source": [
    "# Searching Scicat from Jupyter notebooks\n",
    "\n",
    "You can search the ESS metadata catalogue, SciCat from a Jupyter notebook\n",
    "\n",
    "<a href=\"https://scicat.esss.se\">https://scicat.esss.se</a>\n",
    "\n",
    "<a href=\"https://scicat.esss.se\"><img src=\"SciCatLogo.png\" style=\"width: 100px; float: right;\"></a>"
   ]
  },
  {
   "cell_type": "code",
   "execution_count": 91,
   "metadata": {},
   "outputs": [],
   "source": [
    "import requests\n",
    "import json\n",
    "import urllib\n",
    "\n",
    "def search_scicat(text, max_number_results):\n",
    "    fields = {'text': text}\n",
    "    limit = {'limit': max_number_results, 'order': \"creationTime:desc\"}\n",
    "    fields_encode = urllib.parse.quote(json.dumps(fields))\n",
    "    limit_encode = urllib.parse.quote(json.dumps(limit))\n",
    "    dataset_url = \\\n",
    "         \"https://scicatapi.esss.dk/api/v3/Datasets/anonymousquery?fields=\" + \\\n",
    "                fields_encode+\"&limits=\"+limit_encode\n",
    "    r=requests.get(dataset_url).json()\n",
    "    print(len(r), \"result found!\")\n",
    "    return r"
   ]
  },
  {
   "cell_type": "markdown",
   "metadata": {},
   "source": [
    "Search for e.g. hexagonal boron nitride (hbn)"
   ]
  },
  {
   "cell_type": "code",
   "execution_count": 92,
   "metadata": {},
   "outputs": [
    {
     "name": "stdout",
     "output_type": "stream",
     "text": [
      "1 result found!\n"
     ]
    }
   ],
   "source": [
    "r=search_scicat(\"hbn\",1)\n"
   ]
  },
  {
   "cell_type": "markdown",
   "metadata": {},
   "source": [
    "### Show the sample description"
   ]
  },
  {
   "cell_type": "code",
   "execution_count": 93,
   "metadata": {},
   "outputs": [
    {
     "name": "stdout",
     "output_type": "stream",
     "text": [
      "hBN target with 1.0 mm diameter hole\n"
     ]
    }
   ],
   "source": [
    "print(r[0][\"scientificMetadata\"].get(\"sample_description\"))\n"
   ]
  },
  {
   "cell_type": "markdown",
   "metadata": {},
   "source": [
    "### Print the location of the data"
   ]
  },
  {
   "cell_type": "code",
   "execution_count": 90,
   "metadata": {},
   "outputs": [
    {
     "name": "stdout",
     "output_type": "stream",
     "text": [
      "/nfs/groups/beamlines/v20/67JH32\n"
     ]
    }
   ],
   "source": [
    "print(r[0][\"sourceFolder\"])"
   ]
  }
 ],
 "metadata": {
  "kernelspec": {
   "display_name": "Python 3",
   "language": "python",
   "name": "python3"
  },
  "language_info": {
   "codemirror_mode": {
    "name": "ipython",
    "version": 3
   },
   "file_extension": ".py",
   "mimetype": "text/x-python",
   "name": "python",
   "nbconvert_exporter": "python",
   "pygments_lexer": "ipython3",
   "version": "3.7.4"
  }
 },
 "nbformat": 4,
 "nbformat_minor": 2
}
