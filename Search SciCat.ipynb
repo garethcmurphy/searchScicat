{
 "cells": [
  {
   "cell_type": "markdown",
   "metadata": {},
   "source": [
    "# Searching Scicat from Jupyter notebooks\n",
    "\n",
    "<a href=\"https://scicat.esss.se\"><img src=\"SciCatLogo.png\" style=\"width: 100px; float: left;\"></a>You can search the ESS metadata catalogue, SciCat from a Jupyter notebook\n",
    "\n",
    "<a href=\"https://scicat.esss.se\">https://scicat.esss.se</a>\n",
    "\n",
    "\n",
    "# Example use\n",
    "Search for e.g. hexagonal boron nitride (hbn).\n",
    "Show sample desciption, print location of data"
   ]
  },
  {
   "cell_type": "code",
   "execution_count": 15,
   "metadata": {},
   "outputs": [
    {
     "name": "stdout",
     "output_type": "stream",
     "text": [
      "1 result found!\n",
      "hBN target with 1.0 mm diameter hole\n",
      "/nfs/groups/beamlines/v20/67JH32\n"
     ]
    }
   ],
   "source": [
    "import scicat\n",
    "r=scicat.search(\"hbn\",1)\n",
    "print(r[0][\"scientificMetadata\"].get(\"sample_description\"))\n",
    "print(r[0][\"sourceFolder\"])"
   ]
  },
  {
   "cell_type": "code",
   "execution_count": null,
   "metadata": {},
   "outputs": [],
   "source": []
  }
 ],
 "metadata": {
  "kernelspec": {
   "display_name": "Python 3",
   "language": "python",
   "name": "python3"
  },
  "language_info": {
   "codemirror_mode": {
    "name": "ipython",
    "version": 3
   },
   "file_extension": ".py",
   "mimetype": "text/x-python",
   "name": "python",
   "nbconvert_exporter": "python",
   "pygments_lexer": "ipython3",
   "version": "3.7.4"
  }
 },
 "nbformat": 4,
 "nbformat_minor": 2
}
